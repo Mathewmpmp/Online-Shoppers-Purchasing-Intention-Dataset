{
 "cells": [
  {
   "cell_type": "code",
   "execution_count": 1,
   "id": "fb4b6a57-8f3b-4e34-9779-7c8d470036d3",
   "metadata": {},
   "outputs": [],
   "source": [
    "import pandas as pd\n",
    "import numpy as np\n",
    "import matplotlib.pyplot as plt\n",
    "import seaborn as sns"
   ]
  },
  {
   "cell_type": "code",
   "execution_count": 6,
   "id": "49a298ce-1491-4fab-bc46-270b9bcb884a",
   "metadata": {},
   "outputs": [],
   "source": [
    "from sklearn.model_selection import train_test_split\n",
    "from sklearn.preprocessing import StandardScaler\n",
    "from sklearn.metrics import classification_report, confusion_matrix, roc_auc_score, roc_curve, accuracy_score\n",
    "\n",
    "from sklearn.linear_model import LogisticRegression\n",
    "from sklearn.ensemble import RandomForestClassifier\n",
    "from xgboost import XGBClassifier\n",
    "\n",
    "import warnings\n",
    "warnings.filterwarnings('ignore')\n",
    "%matplotlib inline"
   ]
  },
  {
   "cell_type": "code",
   "execution_count": 8,
   "id": "64090703-04ec-4318-9be9-520e28b8dafe",
   "metadata": {},
   "outputs": [],
   "source": [
    "data = pd.read_csv(\"E:\\Final Project\\online_shoppers_intention.csv\")"
   ]
  },
  {
   "cell_type": "code",
   "execution_count": 9,
   "id": "97270f2c-7fd9-451d-b8e5-1f9a706702c3",
   "metadata": {},
   "outputs": [],
   "source": [
    "months = {'Jan':1,'Feb':2,'Mar':3,'Apr':4,'May':5,'June':6,'Jul':7,'Aug':8,'Sep':9,'Oct':10,'Nov':11,'Dec':12}\n",
    "data['Month'] = data['Month'].map(months)\n",
    "data = data.dropna(subset=['Month'])\n",
    "data['Month'] = data['Month'].astype(int)\n",
    "data['Month_sin'] = np.sin(2 * np.pi * data['Month'] / 12)\n",
    "data['Month_cos'] = np.cos(2 * np.pi * data['Month'] / 12)\n",
    "data = data.drop('Month', axis=1)"
   ]
  },
  {
   "cell_type": "code",
   "execution_count": 10,
   "id": "b00bb7bc-58b8-4fed-a267-4eac4bd68849",
   "metadata": {},
   "outputs": [],
   "source": [
    "cats = ['OperatingSystems','Browser','Region','TrafficType']\n",
    "data = pd.get_dummies(data, columns=cats, drop_first=True)\n",
    "visit = pd.get_dummies(data['VisitorType'], prefix='Visitor', drop_first=True)\n",
    "data = pd.concat([data.drop('VisitorType', axis=1), visit], axis=1)"
   ]
  },
  {
   "cell_type": "code",
   "execution_count": 11,
   "id": "ec7b7c44-3e13-4db4-9beb-b2232eb03297",
   "metadata": {},
   "outputs": [],
   "source": [
    "data['Weekend'] = data['Weekend'].astype(int)\n",
    "data['Revenue'] = data['Revenue'].astype(int)"
   ]
  },
  {
   "cell_type": "code",
   "execution_count": 12,
   "id": "c0b483c9-1333-4050-add7-cd82de5cbedd",
   "metadata": {},
   "outputs": [],
   "source": [
    "log_cols = ['Administrative_Duration','Informational_Duration','ProductRelated_Duration','PageValues']\n",
    "for c in log_cols:\n",
    "    data[c] = np.log1p(data[c])"
   ]
  },
  {
   "cell_type": "code",
   "execution_count": 13,
   "id": "a3730cd0-3a16-4e8f-a5a0-76c9d72fe952",
   "metadata": {},
   "outputs": [],
   "source": [
    "scale_cols = ['Administrative','Informational','ProductRelated','BounceRates','ExitRates','SpecialDay'] + log_cols\n",
    "scaler = StandardScaler()\n",
    "data[scale_cols] = scaler.fit_transform(data[scale_cols])\n"
   ]
  },
  {
   "cell_type": "code",
   "execution_count": 14,
   "id": "83c06224-c55e-4edd-bcbf-4b608044e5de",
   "metadata": {},
   "outputs": [],
   "source": [
    "X = data.drop('Revenue', axis=1)\n",
    "y = data['Revenue']\n",
    "X_train, X_test, y_train, y_test = train_test_split(X, y, test_size=0.25, random_state=42, stratify=y)\n"
   ]
  },
  {
   "cell_type": "code",
   "execution_count": null,
   "id": "8ced8358-44ae-4e54-8fd3-da3884d0ff20",
   "metadata": {},
   "outputs": [],
   "source": []
  }
 ],
 "metadata": {
  "kernelspec": {
   "display_name": "Python 3 (ipykernel)",
   "language": "python",
   "name": "python3"
  },
  "language_info": {
   "codemirror_mode": {
    "name": "ipython",
    "version": 3
   },
   "file_extension": ".py",
   "mimetype": "text/x-python",
   "name": "python",
   "nbconvert_exporter": "python",
   "pygments_lexer": "ipython3",
   "version": "3.13.2"
  }
 },
 "nbformat": 4,
 "nbformat_minor": 5
}
